{
 "cells": [
  {
   "cell_type": "code",
   "execution_count": 1,
   "metadata": {},
   "outputs": [
    {
     "name": "stdout",
     "output_type": "stream",
     "text": [
      "Fișierele au fost combinate cu succes în rezervatii_combinate.csv\n"
     ]
    }
   ],
   "source": [
    "import pandas as pd\n",
    "\n",
    "# Lista cu fișierele tale CSV\n",
    "files = [\n",
    "    \"rezervatii/anexa1.csv\",\n",
    "    \"rezervatii/anexa3.csv\",\n",
    "    \"rezervatii/anexa4.csv\",\n",
    "    \"rezervatii/anexa5.csv\",\n",
    "    \"rezervatii/anexa7.csv\",\n",
    "    \"rezervatii/anexa8.csv\",\n",
    "    \"rezervatii/anexa13.csv\"\n",
    "]\n",
    "\n",
    "# Citim și concatenăm toate fișierele\n",
    "dfs = [pd.read_csv(f, encoding='utf-8') for f in files]\n",
    "combined_df = pd.concat(dfs, ignore_index=True)\n",
    "\n",
    "# Salvăm rezultatul într-un nou fișier CSV\n",
    "combined_df.to_csv(\"rezervatii_combinate.csv\", index=False, encoding='utf-8')\n",
    "\n",
    "print(\"Fișierele au fost combinate cu succes în rezervatii_combinate.csv\")\n"
   ]
  },
  {
   "cell_type": "code",
   "execution_count": 1,
   "metadata": {},
   "outputs": [
    {
     "name": "stdout",
     "output_type": "stream",
     "text": [
      "sadfsa\n"
     ]
    }
   ],
   "source": [
    "print(\"sadfsa\")"
   ]
  },
  {
   "cell_type": "code",
   "execution_count": 2,
   "metadata": {},
   "outputs": [
    {
     "name": "stdout",
     "output_type": "stream",
     "text": [
      "Fișierele au fost combinate cu succes în rezervatii_combinate.csv\n"
     ]
    },
    {
     "name": "stderr",
     "output_type": "stream",
     "text": [
      "<>:5: SyntaxWarning: invalid escape sequence '\\p'\n",
      "<>:6: SyntaxWarning: invalid escape sequence '\\p'\n",
      "<>:7: SyntaxWarning: invalid escape sequence '\\p'\n",
      "<>:5: SyntaxWarning: invalid escape sequence '\\p'\n",
      "<>:6: SyntaxWarning: invalid escape sequence '\\p'\n",
      "<>:7: SyntaxWarning: invalid escape sequence '\\p'\n",
      "C:\\Users\\Mihai\\AppData\\Local\\Temp\\ipykernel_16152\\4276504274.py:5: SyntaxWarning: invalid escape sequence '\\p'\n",
      "  \"plante\\plante1.csv\",\n",
      "C:\\Users\\Mihai\\AppData\\Local\\Temp\\ipykernel_16152\\4276504274.py:6: SyntaxWarning: invalid escape sequence '\\p'\n",
      "  \"plante\\plante2.csv\",\n",
      "C:\\Users\\Mihai\\AppData\\Local\\Temp\\ipykernel_16152\\4276504274.py:7: SyntaxWarning: invalid escape sequence '\\p'\n",
      "  \"plante\\plante3.csv\",\n"
     ]
    }
   ],
   "source": [
    "import pandas as pd\n",
    "\n",
    "# Lista cu fișierele tale CSV\n",
    "files = [\n",
    "    \"plante\\plante1.csv\",\n",
    "    \"plante\\plante2.csv\",\n",
    "    \"plante\\plante3.csv\",\n",
    "\n",
    "]\n",
    "\n",
    "# Citim și concatenăm toate fișierele\n",
    "dfs = [pd.read_csv(f, encoding='utf-8') for f in files]\n",
    "combined_df = pd.concat(dfs, ignore_index=True)\n",
    "\n",
    "# Salvăm rezultatul într-un nou fișier CSV\n",
    "combined_df.to_csv(\"plante_combinate.csv\", index=False, encoding='utf-8')\n",
    "\n",
    "print(\"Fișierele au fost combinate cu succes în rezervatii_combinate.csv\")\n"
   ]
  },
  {
   "cell_type": "code",
   "execution_count": null,
   "id": "e9995944",
   "metadata": {},
   "outputs": [],
   "source": []
  },
  {
   "cell_type": "code",
   "execution_count": null,
   "id": "919cad7f",
   "metadata": {},
   "outputs": [],
   "source": []
  },
  {
   "cell_type": "code",
   "execution_count": null,
   "id": "22285f92",
   "metadata": {},
   "outputs": [],
   "source": []
  },
  {
   "cell_type": "code",
   "execution_count": null,
   "id": "776568b4",
   "metadata": {},
   "outputs": [],
   "source": []
  },
  {
   "cell_type": "code",
   "execution_count": null,
   "id": "cfa68d15",
   "metadata": {},
   "outputs": [],
   "source": []
  },
  {
   "cell_type": "code",
   "execution_count": null,
   "id": "5426bd3b",
   "metadata": {},
   "outputs": [],
   "source": []
  },
  {
   "cell_type": "code",
   "execution_count": null,
   "metadata": {},
   "outputs": [],
   "source": []
  },
  {
   "cell_type": "code",
   "execution_count": null,
   "id": "16b91be6",
   "metadata": {},
   "outputs": [],
   "source": []
  },
  {
   "cell_type": "code",
   "execution_count": null,
   "metadata": {},
   "outputs": [],
   "source": []
  },
  {
   "cell_type": "code",
   "execution_count": null,
   "metadata": {},
   "outputs": [],
   "source": []
  }
 ],
 "metadata": {
  "kernelspec": {
   "display_name": "Python 3",
   "language": "python",
   "name": "python3"
  },
  "language_info": {
   "codemirror_mode": {
    "name": "ipython",
    "version": 3
   },
   "file_extension": ".py",
   "mimetype": "text/x-python",
   "name": "python",
   "nbconvert_exporter": "python",
   "pygments_lexer": "ipython3",
   "version": "3.13.6"
  }
 },
 "nbformat": 4,
 "nbformat_minor": 5
}
