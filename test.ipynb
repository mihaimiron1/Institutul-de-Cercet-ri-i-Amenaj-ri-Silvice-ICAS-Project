{
 "cells": [
  {
   "cell_type": "code",
   "execution_count": 1,
   "metadata": {},
   "outputs": [
    {
     "name": "stdout",
     "output_type": "stream",
     "text": [
      "Fișierele au fost combinate cu succes în rezervatii_combinate.csv\n"
     ]
    }
   ],
   "source": [
    "import pandas as pd\n",
    "\n",
    "# Lista cu fișierele tale CSV\n",
    "files = [\n",
    "    \"rezervatii/anexa1.csv\",\n",
    "    \"rezervatii/anexa3.csv\",\n",
    "    \"rezervatii/anexa4.csv\",\n",
    "    \"rezervatii/anexa5.csv\",\n",
    "    \"rezervatii/anexa7.csv\",\n",
    "    \"rezervatii/anexa8.csv\",\n",
    "    \"rezervatii/anexa13.csv\"\n",
    "]\n",
    "\n",
    "# Citim și concatenăm toate fișierele\n",
    "dfs = [pd.read_csv(f, encoding='utf-8') for f in files]\n",
    "combined_df = pd.concat(dfs, ignore_index=True)\n",
    "\n",
    "# Salvăm rezultatul într-un nou fișier CSV\n",
    "combined_df.to_csv(\"rezervatii_combinate.csv\", index=False, encoding='utf-8')\n",
    "\n",
    "print(\"Fișierele au fost combinate cu succes în rezervatii_combinate.csv\")\n"
   ]
  },
  {
   "cell_type": "code",
   "execution_count": 1,
   "metadata": {},
   "outputs": [
    {
     "name": "stdout",
     "output_type": "stream",
     "text": [
      "sadfsa\n"
     ]
    }
   ],
   "source": [
    "print(\"sadfsa\")"
   ]
  },
  {
   "cell_type": "code",
   "execution_count": 2,
   "metadata": {},
   "outputs": [
    {
     "name": "stdout",
     "output_type": "stream",
     "text": [
      "Fișierele au fost combinate cu succes în rezervatii_combinate.csv\n"
     ]
    },
    {
     "name": "stderr",
     "output_type": "stream",
     "text": [
      "<>:5: SyntaxWarning: invalid escape sequence '\\p'\n",
      "<>:6: SyntaxWarning: invalid escape sequence '\\p'\n",
      "<>:7: SyntaxWarning: invalid escape sequence '\\p'\n",
      "<>:5: SyntaxWarning: invalid escape sequence '\\p'\n",
      "<>:6: SyntaxWarning: invalid escape sequence '\\p'\n",
      "<>:7: SyntaxWarning: invalid escape sequence '\\p'\n",
      "C:\\Users\\Mihai\\AppData\\Local\\Temp\\ipykernel_16152\\4276504274.py:5: SyntaxWarning: invalid escape sequence '\\p'\n",
      "  \"plante\\plante1.csv\",\n",
      "C:\\Users\\Mihai\\AppData\\Local\\Temp\\ipykernel_16152\\4276504274.py:6: SyntaxWarning: invalid escape sequence '\\p'\n",
      "  \"plante\\plante2.csv\",\n",
      "C:\\Users\\Mihai\\AppData\\Local\\Temp\\ipykernel_16152\\4276504274.py:7: SyntaxWarning: invalid escape sequence '\\p'\n",
      "  \"plante\\plante3.csv\",\n"
     ]
    }
   ],
   "source": [
    "import pandas as pd\n",
    "\n",
    "# Lista cu fișierele tale CSV\n",
    "files = [\n",
    "    \"plante\\plante1.csv\",\n",
    "    \"plante\\plante2.csv\",\n",
    "    \"plante\\plante3.csv\",\n",
    "\n",
    "]\n",
    "\n",
    "# Citim și concatenăm toate fișierele\n",
    "dfs = [pd.read_csv(f, encoding='utf-8') for f in files]\n",
    "combined_df = pd.concat(dfs, ignore_index=True)\n",
    "\n",
    "# Salvăm rezultatul într-un nou fișier CSV\n",
    "combined_df.to_csv(\"plante_combinate.csv\", index=False, encoding='utf-8')\n",
    "\n",
    "print(\"Fișierele au fost combinate cu succes în rezervatii_combinate.csv\")\n"
   ]
  },
  {
   "cell_type": "code",
   "execution_count": null,
   "id": "e9995944",
   "metadata": {},
   "outputs": [
    {
     "name": "stdout",
     "output_type": "stream",
     "text": [
      "<class 'pandas.core.frame.DataFrame'>\n",
      "RangeIndex: 861 entries, 0 to 860\n",
      "Data columns (total 15 columns):\n",
      " #   Column                 Non-Null Count  Dtype \n",
      "---  ------                 --------------  ----- \n",
      " 0   Denumirea_stiintifică  861 non-null    object\n",
      " 1   Denumirea_populară     817 non-null    object\n",
      " 2   Clasa                  817 non-null    object\n",
      " 3   Familia                817 non-null    object\n",
      " 4   Habitat                33 non-null     object\n",
      " 5   Localitatea            44 non-null     object\n",
      " 6   Silvice                797 non-null    object\n",
      " 7   Pajisti_sau_stepice    766 non-null    object\n",
      " 8   Stancarii              732 non-null    object\n",
      " 9   Palustre_si_acvatice   724 non-null    object\n",
      " 10  P_rară                 33 non-null     object\n",
      " 11  Conventia_Berna        33 non-null     object\n",
      " 12  Directiva_Habitate     33 non-null     object\n",
      " 13  RM_Cartea_R_2015       33 non-null     object\n",
      " 14  Frcevența              817 non-null    object\n",
      "dtypes: object(15)\n",
      "memory usage: 101.0+ KB\n"
     ]
    }
   ],
   "source": [
    "import pandas as pd\n",
    "\n",
    "file1 = \"plante_combinate.csv\"\n",
    "\n",
    "\n",
    "p1= pd.read_csv(file1, encoding='utf-8')\n",
    "p1.info()\n"
   ]
  },
  {
   "cell_type": "code",
   "execution_count": 8,
   "id": "919cad7f",
   "metadata": {},
   "outputs": [
    {
     "ename": "ValueError",
     "evalue": "cannot insert ID, already exists",
     "output_type": "error",
     "traceback": [
      "\u001b[31m---------------------------------------------------------------------------\u001b[39m",
      "\u001b[31mValueError\u001b[39m                                Traceback (most recent call last)",
      "\u001b[32m~\\AppData\\Local\\Temp\\ipykernel_8664\\1775680174.py\u001b[39m in \u001b[36m?\u001b[39m\u001b[34m()\u001b[39m\n\u001b[32m      2\u001b[39m \n\u001b[32m      3\u001b[39m \u001b[38;5;66;03m# presupun că deja ai citit fisierul în df:\u001b[39;00m\n\u001b[32m      4\u001b[39m \u001b[38;5;66;03m# df = pd.read_csv(\"p1.csv\")\u001b[39;00m\n\u001b[32m      5\u001b[39m \n\u001b[32m----> \u001b[39m\u001b[32m6\u001b[39m p1.insert(\u001b[32m0\u001b[39m, \u001b[33m\"ID\"\u001b[39m, [f\"P_{i}\" \u001b[38;5;28;01mfor\u001b[39;00m i \u001b[38;5;28;01min\u001b[39;00m range(\u001b[32m1\u001b[39m, len(p1) + \u001b[32m1\u001b[39m)])\n\u001b[32m      7\u001b[39m \n\u001b[32m      8\u001b[39m \u001b[38;5;66;03m# salvezi cu noua coloană\u001b[39;00m\n\u001b[32m      9\u001b[39m p1.to_csv(\u001b[33m\"plante_combinate.csv\"\u001b[39m, index=\u001b[38;5;28;01mFalse\u001b[39;00m)\n",
      "\u001b[32m~\\AppData\\Local\\Packages\\PythonSoftwareFoundation.Python.3.13_qbz5n2kfra8p0\\LocalCache\\local-packages\\Python313\\site-packages\\pandas\\core\\frame.py\u001b[39m in \u001b[36m?\u001b[39m\u001b[34m(self, loc, column, value, allow_duplicates)\u001b[39m\n\u001b[32m   5161\u001b[39m                 \u001b[33m\"'self.flags.allows_duplicate_labels' is False.\"\u001b[39m\n\u001b[32m   5162\u001b[39m             )\n\u001b[32m   5163\u001b[39m         \u001b[38;5;28;01mif\u001b[39;00m \u001b[38;5;28;01mnot\u001b[39;00m allow_duplicates \u001b[38;5;28;01mand\u001b[39;00m column \u001b[38;5;28;01min\u001b[39;00m self.columns:\n\u001b[32m   5164\u001b[39m             \u001b[38;5;66;03m# Should this be a different kind of error??\u001b[39;00m\n\u001b[32m-> \u001b[39m\u001b[32m5165\u001b[39m             \u001b[38;5;28;01mraise\u001b[39;00m ValueError(f\"cannot insert {column}, already exists\")\n\u001b[32m   5166\u001b[39m         \u001b[38;5;28;01mif\u001b[39;00m \u001b[38;5;28;01mnot\u001b[39;00m is_integer(loc):\n\u001b[32m   5167\u001b[39m             \u001b[38;5;28;01mraise\u001b[39;00m TypeError(\u001b[33m\"loc must be int\"\u001b[39m)\n\u001b[32m   5168\u001b[39m         \u001b[38;5;66;03m# convert non stdlib ints to satisfy typing checks\u001b[39;00m\n",
      "\u001b[31mValueError\u001b[39m: cannot insert ID, already exists"
     ]
    }
   ],
   "source": [
    "import pandas as pd\n",
    "\n",
    "# presupun că deja ai citit fisierul în df:\n",
    "# df = pd.read_csv(\"p1.csv\")\n",
    "\n",
    "p1.insert(0, \"ID\", [f\"P_{i}\" for i in range(1, len(p1) + 1)])\n",
    "\n",
    "# salvezi cu noua coloană\n",
    "p1.to_csv(\"plante_combinate.csv\", index=False)\n"
   ]
  },
  {
   "cell_type": "code",
   "execution_count": null,
   "id": "22285f92",
   "metadata": {},
   "outputs": [],
   "source": []
  },
  {
   "cell_type": "code",
   "execution_count": null,
   "id": "776568b4",
   "metadata": {},
   "outputs": [],
   "source": []
  },
  {
   "cell_type": "code",
   "execution_count": null,
   "id": "cfa68d15",
   "metadata": {},
   "outputs": [],
   "source": []
  },
  {
   "cell_type": "code",
   "execution_count": null,
   "id": "5426bd3b",
   "metadata": {},
   "outputs": [],
   "source": []
  },
  {
   "cell_type": "code",
   "execution_count": null,
   "metadata": {},
   "outputs": [],
   "source": []
  },
  {
   "cell_type": "code",
   "execution_count": null,
   "id": "16b91be6",
   "metadata": {},
   "outputs": [],
   "source": []
  },
  {
   "cell_type": "code",
   "execution_count": null,
   "metadata": {},
   "outputs": [],
   "source": []
  },
  {
   "cell_type": "code",
   "execution_count": null,
   "metadata": {},
   "outputs": [],
   "source": []
  }
 ],
 "metadata": {
  "kernelspec": {
   "display_name": "Python 3",
   "language": "python",
   "name": "python3"
  },
  "language_info": {
   "codemirror_mode": {
    "name": "ipython",
    "version": 3
   },
   "file_extension": ".py",
   "mimetype": "text/x-python",
   "name": "python",
   "nbconvert_exporter": "python",
   "pygments_lexer": "ipython3",
   "version": "3.13.6"
  }
 },
 "nbformat": 4,
 "nbformat_minor": 5
}
